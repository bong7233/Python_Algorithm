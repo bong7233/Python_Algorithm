{
 "cells": [
  {
   "cell_type": "markdown",
   "id": "synthetic-james",
   "metadata": {},
   "source": [
    "# 3월 11일 알고리즘 개념정리\n"
   ]
  },
  {
   "cell_type": "markdown",
   "id": "welsh-weight",
   "metadata": {},
   "source": [
    "## 팰린드롬 문자열찾기\n",
    "- 팰린드롬 : 좌우가 대칭되는 문자열\n",
    "    - ex) 요기요"
   ]
  },
  {
   "cell_type": "code",
   "execution_count": 15,
   "id": "fallen-ghost",
   "metadata": {},
   "outputs": [],
   "source": [
    "# 팰린드롬 구현\n",
    "def longPalindrome(s: str) -> str:\n",
    "    # 투포인터 구현\n",
    "    def expand(left: int, right: int) -> str:\n",
    "        # 두개의 포인터가 범위내에있고, 양끝이 같은문자를 나타내는지(대칭인지)확인\n",
    "        while left >= 0 and right < len(s) and s[left] == s[right]:\n",
    "            # 대칭이 계속 유지된다면, 양끝의 위치를 한칸씩 넓힘\n",
    "            left -= 1\n",
    "            right += 1\n",
    "        # 대칭되는 양 끝단의 위치를 찾아서 슬라이싱후 리턴\n",
    "        return s[left + 1:right]\n",
    "\n",
    "    # 만약 문자열이 한글자이거나 이미 거꾸로해도 같은상황이라면 바로 문자열 리턴\n",
    "    if len(s) < 2 or s == s[::-1]:\n",
    "        return s\n",
    "\n",
    "    result = ''\n",
    "    for i in range(len(s) - 1):\n",
    "        result = max(result,\n",
    "                     expand(i, i + 1), # 두칸짜리 투포인터(짝수 반복구간 찾기)\n",
    "                     expand(i, i + 2), # 세칸짜리 투포인터(홀수 반복구간 찾기)\n",
    "                     key=len)          # 길이를 기준\n",
    "    return result"
   ]
  },
  {
   "cell_type": "code",
   "execution_count": 16,
   "id": "imported-fever",
   "metadata": {},
   "outputs": [
    {
     "name": "stdout",
     "output_type": "stream",
     "text": [
      "aabbaa\n",
      "wwbww\n"
     ]
    }
   ],
   "source": [
    "## 테스트\n",
    "print(longPalindrome('abcaabbaasda')) # aabbaa\n",
    "print(longPalindrome('awwbwwc'))      # wwbww"
   ]
  },
  {
   "cell_type": "markdown",
   "id": "separate-laptop",
   "metadata": {},
   "source": [
    "## 그룹 애너그램\n",
    "- 애너그램: 문자를 재배열하여 다른뜻을 가진 단어로 바꾸는것\n",
    "- 그룹 애너그램은 단어들을 입력받아 애너그램인것들끼리 묶어서 반환하는것이다"
   ]
  },
  {
   "cell_type": "code",
   "execution_count": 22,
   "id": "mexican-allen",
   "metadata": {},
   "outputs": [],
   "source": [
    "import collections\n",
    "\n",
    "def groupAnagrams(strs : [str]) -> [[str]]:\n",
    "    anagrams = collections.defaultdict(list)\n",
    "    \n",
    "    for word in strs:\n",
    "        anagrams[''.join(sorted(word))].append(word)\n",
    "        \n",
    "    return list(anagrams.values())"
   ]
  },
  {
   "cell_type": "code",
   "execution_count": 23,
   "id": "meaning-evans",
   "metadata": {},
   "outputs": [
    {
     "name": "stdout",
     "output_type": "stream",
     "text": [
      "defaultdict(<class 'list'>, {})\n"
     ]
    },
    {
     "data": {
      "text/plain": [
       "[['abc', 'bac', 'acb'], ['bbb']]"
      ]
     },
     "execution_count": 23,
     "metadata": {},
     "output_type": "execute_result"
    }
   ],
   "source": [
    "groupAnagrams(['abc', 'bac', 'bbb', 'acb'])"
   ]
  },
  {
   "cell_type": "code",
   "execution_count": null,
   "id": "documented-hazard",
   "metadata": {},
   "outputs": [],
   "source": []
  },
  {
   "cell_type": "code",
   "execution_count": 25,
   "id": "stock-subscription",
   "metadata": {},
   "outputs": [
    {
     "data": {
      "text/plain": [
       "['a', 'b', 'c', 'f', 'g', 'm']"
      ]
     },
     "execution_count": 25,
     "metadata": {},
     "output_type": "execute_result"
    }
   ],
   "source": [
    "a= ['f','g','m','a','b','c']\n",
    "a.sort()\n",
    "a"
   ]
  },
  {
   "cell_type": "code",
   "execution_count": null,
   "id": "distinguished-location",
   "metadata": {},
   "outputs": [],
   "source": []
  },
  {
   "cell_type": "code",
   "execution_count": null,
   "id": "billion-cedar",
   "metadata": {},
   "outputs": [],
   "source": []
  }
 ],
 "metadata": {
  "kernelspec": {
   "display_name": "Python 3",
   "language": "python",
   "name": "python3"
  },
  "language_info": {
   "codemirror_mode": {
    "name": "ipython",
    "version": 3
   },
   "file_extension": ".py",
   "mimetype": "text/x-python",
   "name": "python",
   "nbconvert_exporter": "python",
   "pygments_lexer": "ipython3",
   "version": "3.9.1"
  }
 },
 "nbformat": 4,
 "nbformat_minor": 5
}
